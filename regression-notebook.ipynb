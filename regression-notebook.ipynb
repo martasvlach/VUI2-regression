{
 "cells": [
  {
   "cell_type": "code",
   "execution_count": null,
   "metadata": {},
   "outputs": [],
   "source": [
    "# Stažení a instalace knihoven, které budeme používat\n",
    "\n",
    "import sys\n",
    "!{sys.executable} -m pip install numpy\n",
    "!{sys.executable} -m pip install sklearn\n",
    "!{sys.executable} -m pip install pandas\n",
    "!{sys.executable} -m pip install matplotlib\n",
    "!{sys.executable} -m pip install scipy"
   ]
  },
  {
   "cell_type": "code",
   "execution_count": null,
   "metadata": {},
   "outputs": [],
   "source": [
    "\n",
    "# Import knihoven, které budeme používat\n",
    "\n",
    "import numpy as np\n",
    "import pandas as pd\n",
    "import matplotlib.pyplot as plt\n",
    "import sklearn as sk\n",
    "from sklearn.model_selection import train_test_split\n",
    "from scipy import stats\n",
    "import random\n",
    "from sklearn.linear_model import LinearRegression\n",
    "from sklearn import metrics"
   ]
  },
  {
   "cell_type": "markdown",
   "metadata": {},
   "source": [
    "---\n",
    "# Regrese\n",
    "\n",
    "#### Autoři:\n",
    "* [Martin Vlach](mailto:xvlach@mendelu.cz)\n",
    "* [Jakub Dolejší](mailto:xdolejsi@mendelu.cz)\n",
    "---"
   ]
  },
  {
   "cell_type": "markdown",
   "metadata": {},
   "source": [
    "### Regrese v různých vědních odvětvích\n",
    "- **Lékařství** - *regrese nemoci*\n",
    "- **Právo** - *regresy*\n",
    "- **Filozofie** - *nekonečný regres*\n",
    "- **Softwarové inženýrství** - *regresní testování*\n",
    "- <span style=\"color:#eb4034\">**Statistika** - *regresivní analýza*</span>"
   ]
  },
  {
   "cell_type": "markdown",
   "metadata": {},
   "source": [
    "---\n",
    "### Regresivní analýza\n",
    "* Jedna z nejpoužívanějších statistických metod.\n",
    "* Existuje značné množství variant, přičemž každá je vhodná na jiný typ problému.\n",
    "\n",
    "</br>\n",
    "\n",
    "* ***Definice*** - *Označení statistických metod, které souží k odhadu jisté náhodné veličiny na základě znalosti jedné či více jiných veličin. Cílem regresní analýzy je popsat tuto závislost pomocí vhodného modelu.*\n",
    "\n",
    "    * ***Závislá proměnná*** - *Parametr, jehož hodnotu zkoumáme/hledáme.*\n",
    "    * ***Nezávislá proměnná*** - *Parametr, jehož hodnota je nám známa. S využítím těchto hodnot je hledána hodnota závislé proměnné. Tyto hodnoty se často označují jako regresory*\n",
    "\n",
    "#### Dělení regresivních modelů\n",
    "* Diskrétní hodnoty proměnných **x** Spojité hodnoty proměnných **x** Kombinace\n",
    "* Jednoduchá **x** Vícenásobná\n",
    "* Lineární **x** Nelineární závislost\n",
    "---\n",
    "\n",
    "### Co to regrese vůbec je?\n",
    "Regrese je obecně aparát sloužící k odhadu vztahu mezi závislou a nezávislou proměnnou.\n",
    "Regresi si lze představit jak funkci, která má obecně N vstupů a jeden výstup. Každý jeden vstupní\n",
    "parametr představuej nezávislou proměnnou, přičemž výstup je proměnná závislá na všech vstupech.\n",
    "\n",
    "\n",
    "![image info](images/regression.jpg)\n",
    "\n",
    "\n",
    "### Jaké jsou její typy\n",
    "\n",
    "Jak již bylo zmíněno, regresi lze rozdělit do několika tříd dle jejího využití. Regrese je jedním\n",
    " ze základních metod <i>učení s učitelem</i>. Pravděpodobně nejčastěji použitým typem regrese je lineární regrese. Jejím zobecněním následně je vícenásobná lineární\n",
    "regrese. Dále existuje logistická regrese, která slouží ke klasifikaci, tj. zařazení vstupní\n",
    "hodnoty do některé ze tříd s určitou pravděpodobností. Pokročilým typem regrese je\n",
    "<i>Support Vector Machine</i>, který slouží i k klasifikaci.\n",
    "\n",
    "#### Lineární regrese\n",
    "Lineární regrese je, jak již bylo avizovno, speciálním případem obecného regresního modelu.\n",
    "Lineární regrese ma na svém vstupu nezávislou proměnnou, např. plocha pozemku, a na svém\n",
    "výstupu závislou proměnnou, např. cena. Cílem lineární regrese ja najít takovou lineární funkci,\n",
    "která bude co nejlépe aproximovat daný soubor dat. Obecným předpokladem pro lineární regrese\n",
    "je že data mají lineární trend, tj. je možné je proložit lineární přímkou.\n",
    "\n",
    "Naším úkolem je naučit se lineární funkci tj. najít vhodné parametry $ w_{1} $ a $w_{0}$.\n",
    "\n",
    " $ y = f(x) = w_{1}x + w_{0} $\n",
    "\n",
    "Dále předpokládáme, že skutečné hodnoty z datasetu jsou zatíženy Gaussovským šumem.\n",
    "\n",
    "$ t = y_{n} + \\epsilon _{n}  $, kde $\\epsilon$ je Gaussovský šum\n",
    "\n",
    "To znamená, že hodnoty z našeho datasetu neleží přímo na lineární přímce, ale jsou rozptýleny kolem ní, a to\n",
    "dle normálního rozložení $ N(\\mu ; 0, \\sigma^2) $, přičemž střední hodnota je nulová a rozptyl se ja závislý\n",
    "na datasetu.\n",
    "\n",
    "\n",
    "![image info](images/error.png)\n",
    "\n",
    "Z obrázku vidíme, že každý vstup z datasetu je zatížen nějakou chybou (pokud by nebyl, všechny\n",
    "data by ležela na lineární přímce). Zde lze postupovat několika způsoby, nicméně v každém případě se budeme snažit nalézt parametry\n",
    "lineární přímky tak, aby výsledná chyba byla co nejmenší\n",
    "\n",
    "<ol>\n",
    "<li><b>Pomocí gradientu</b></li>\n",
    " Nejdříve je nutné najít chybu, což lze udělat tak, že si vypočteme druhou mocninu všech chyb, tedy\n",
    " čtverce, a sečteme je.\n",
    "\n",
    " $ E = \\sum \\limits _{i=1} ^N (t_{n} - y_{n})^2 = \\sum \\limits _{i=1} ^N (t_{n} - w_{1}x + w_{0})^2$\n",
    "\n",
    "Pro každý vzorek z datasetu vezmeme jeho skutečnou hodnotu, odečteme od něj predikovanou\n",
    "hodnotu, a získame chybu konkrétního vzorku, kterou následně umocníme na druhou.\n",
    "Tyto chyby sečteme a získáme celkovou chybu. Nyní je na místě si položit otázku, proč je nutné\n",
    "provést umocnění. Odpoveď je taková, že kdyby jeden vzorek obsahoval chybu +0.5 a druhý vzorek\n",
    "-0.5, tyto dvě hodnoty by se nám díky sumě odečetly, a celková chyba by byla 0, což ovšem není pravda,\n",
    "protože by hodnoty vzorů musely ležet přímo na přímce. Tam ale neleží, což víme díky tomu, že každý\n",
    "oba vzorky jsou zatíženy nějakou chybou.\n",
    "\n",
    "Jako další vhodná operace se nabízí absolutní hodnota. Ta nám již odstraní případné\n",
    "odečtení chyby, nicméně jak posléze zjistíme, bude potřeba provést parciální derivace. Derivace\n",
    "mocniny je ovšem daleko jednoduší než derivace absolutní hodnoty. Dále, kvadratická chyba nám zajistí,\n",
    "že se hodnoty datasetu budou chovat, jako by byly rozmístěny dle normálního rozložení\n",
    "se středem v predikované hodnotě lineární funkce, což je náš předpoklad. Konečně, kvadratická\n",
    "funkce má pouze jedno lokální, resp. globální minimum.\n",
    "\n",
    "(Poznámka: Pokud bychom chtěli pracovat s absolutní hodnotou, předpokládali by jsme Lappplaceovo rozložení)\n",
    "\n",
    "\n",
    "<li><b>Pomocí lineární algebry</b></li>\n",
    "\n",
    "Chybu si můžeme vyjádřit jako\n",
    "    $ E(w0, w1) = \\sum \\limits _{i=1} ^N (t_{n} - y_{n})^2 = \\sum \\limits _{i=1} ^N (t_{n} - \\hat x_{n} ^Tw  )$\n",
    "\n",
    "</ol>\n",
    "\n",
    "\n",
    "### Jak to funguje na pozadí\n",
    "\n",
    "\n",
    "\n",
    "### K čemu nám může posloužit"
   ]
  },
  {
   "cell_type": "code",
   "execution_count": null,
   "metadata": {},
   "outputs": [],
   "source": []
  },
  {
   "cell_type": "markdown",
   "metadata": {},
   "source": [
    "### Lineární regrese\n",
    "\n",
    "#### Jednoduchá lineární regrese"
   ]
  },
  {
   "cell_type": "code",
   "execution_count": null,
   "metadata": {},
   "outputs": [],
   "source": [
    "\"\"\"\n",
    "Dataset obsahující záznamy o pohlaví-výška-váha\n",
    "Zdroj: https://www.kaggle.com/mustafaali96/weight-height\n",
    "\"\"\"\n",
    "\n",
    "wh_df = pd.read_csv('data/weight-height.csv')\n",
    "wh_df.head()"
   ]
  },
  {
   "cell_type": "code",
   "execution_count": null,
   "metadata": {},
   "outputs": [],
   "source": [
    "\"\"\"\n",
    "Příklad jednoduché regresivní analýzy (pouze jeden regres)\n",
    "Z tohoto důvodu budeme zkoumat pouze muže a sloupec pohlaví můžeme ignorovat.\n",
    "Dále si převedeme hodnoty z datasetu na metrické jednotky, neboť jsou uvedeny v imperiálních hodnotách.\n",
    "\"\"\"\n",
    "\n",
    "# 1 palec = 2,54 cm\n",
    "height_constant = 2.54\n",
    "\n",
    "# 1 libra = 0,45359237 kg\n",
    "weight_constant = 0.4535923\n",
    "\n",
    "males_only_df = (wh_df[(wh_df.Gender == 'Male')]).drop('Gender',1) #\n",
    "males_only_df.Height *= height_constant\n",
    "males_only_df.Weight *= weight_constant\n",
    "males_only_df.head()"
   ]
  },
  {
   "cell_type": "code",
   "execution_count": null,
   "metadata": {},
   "outputs": [],
   "source": [
    "males_only_df.plot.scatter(x=\"Height\", y=\"Weight\", color='b', title='Height x Weight [Males only]', s=2);"
   ]
  },
  {
   "cell_type": "code",
   "execution_count": null,
   "metadata": {},
   "outputs": [],
   "source": [
    "\"\"\"\n",
    "Ověření lineární korelační závislosti\n",
    "\n",
    "p - Pearsonův korelační koeficient měří sílu lineární závislosti mezi dvěma veličinami.\n",
    "\n",
    "OTÁZKA - Jakých hodnot může p nabývat?\n",
    "\"\"\"\n",
    "x = males_only_df.Height\n",
    "y = males_only_df.Weight\n",
    "p = stats.pearsonr(x, y)\n",
    "print(f\"Hodnota Pearsonova korelačního koeficientu: {p[0]}.\")"
   ]
  },
  {
   "cell_type": "code",
   "execution_count": null,
   "metadata": {},
   "outputs": [],
   "source": [
    "model = LinearRegression()\n",
    "model.fit(x.values.reshape((-1, 1)), y)\n",
    "print(model.score())"
   ]
  },
  {
   "cell_type": "code",
   "execution_count": null,
   "metadata": {},
   "outputs": [],
   "source": [
    "plt.scatter(x, y, color = \"blue\", s=2)\n",
    "plt.plot(x, model.predict(x.values.reshape((-1, 1))), color = \"red\")\n",
    "plt.title(\"Male weight prediction\")\n",
    "plt.xlabel(\"Height\")\n",
    "plt.ylabel(\"Weight\")\n",
    "plt.show()"
   ]
  },
  {
   "cell_type": "code",
   "execution_count": null,
   "metadata": {},
   "outputs": [],
   "source": [
    "input_height = input('Zadejte vaši výšku: ')\n",
    "weight_predict = model.predict(np.array(float(input_height)).reshape((-1, 1)))[0]\n",
    "print(f\"Predikovaná váha dle jednoduché lineární regresivní analýzy: {np.round(weight_predict, 2)}kg.\")"
   ]
  },
  {
   "cell_type": "markdown",
   "metadata": {},
   "source": [
    "#### Vícenásobná lineární regrese"
   ]
  },
  {
   "cell_type": "code",
   "execution_count": null,
   "metadata": {},
   "outputs": [],
   "source": [
    "\"\"\"\n",
    "Dataset obsahující záznamy o parametrech prodaných aut\n",
    "Zdroj: https://www.kaggle.com/nehalbirla/vehicle-dataset-from-cardekho\n",
    "\"\"\"\n",
    "\n",
    "#MPG = Počet ujetých mil na jeden Galon (3,785 litru) -> Vyšší je lepší\n",
    "toLitres = lambda x : 235.214583 / x\n",
    "\n",
    "column_names = ['mpg', 'horsepower', 'weight', 'acceleration','displacement']\n",
    "\n",
    "cubic_inch_constant = 16.387064\n",
    "\n",
    "cars_df = pd.read_csv('data/auto-mpg.csv', usecols=column_names, na_values='?')\n",
    "cars_df.weight *= weight_constant\n",
    "cars_df.displacement *= cubic_inch_constant\n",
    "cars_df.dropna()\n",
    "\n",
    "cars_df.horsepower =  cars_df.horsepower.astype('float')\n",
    "cars_df.head()"
   ]
  },
  {
   "cell_type": "code",
   "execution_count": null,
   "metadata": {
    "scrolled": true
   },
   "outputs": [],
   "source": [
    "p1 = stats.pearsonr(cars_df['mpg'], cars_df['horsepower'])[0]\n",
    "p2 = stats.pearsonr(cars_df['mpg'], cars_df['weight'])[0]\n",
    "p3 = stats.pearsonr(cars_df['mpg'], cars_df['acceleration'])[0]\n",
    "p4 = stats.pearsonr(cars_df['mpg'], cars_df['displacement'])[0]\n",
    "\n",
    "print(f\"Míra lineární závislosti spotřeba x počet koní: {p1}.\")\n",
    "print(f\"Míra lineární závislosti spotřeba x hmotnost: {p2}.\")\n",
    "print(f\"Míra lineární závislosti spotřeba x zrychlení: {p3}.\")\n",
    "print(f\"Míra lineární závislosti spotřeba x zdvihový objem: {p4}.\")\n"
   ]
  },
  {
   "cell_type": "code",
   "execution_count": null,
   "metadata": {},
   "outputs": [],
   "source": [
    "cars_df.plot.scatter(x='horsepower', y='mpg', color='r', title='MPG x Horsepower')\n",
    "cars_df.plot.scatter(x='weight', y='mpg', color='b', title='MPG x Weight')\n",
    "cars_df.plot.scatter(x='acceleration', y='mpg', color='g', title='MPG x Acceleration')\n",
    "cars_df.plot.scatter(x='displacement', y='mpg', color='m', title='MPG x Zdvihový objem')"
   ]
  },
  {
   "cell_type": "code",
   "execution_count": null,
   "metadata": {},
   "outputs": [],
   "source": [
    "second_model = LinearRegression()\n",
    "second_model_x = cars_df[['horsepower', 'acceleration', 'weight', 'displacement']]\n",
    "second_model_y = cars_df['mpg']\n",
    "\n",
    "# V datasetu jsou často výkonná auta u sebe, proto použijeme určitý pseudonáhodný pick\n",
    "seed = random.randint(0, 1000)\n",
    "\n",
    "second_model_x_train, second_model_x_test, \\\n",
    "second_model_y_train, second_model_y_test = train_test_split\\\n",
    "(second_model_x, second_model_y,test_size=0.25,random_state=seed)\n",
    "\n",
    "second_model.fit(second_model_x_train, second_model_y_train)"
   ]
  },
  {
   "cell_type": "code",
   "execution_count": null,
   "metadata": {},
   "outputs": [],
   "source": [
    "# TEST přesnosti modelu\n",
    "\n",
    "accuracy = np.round(second_model.score(second_model_x_test, second_model_y_test), 4) * 100\n",
    "print(f'Přesnost modelu: {accuracy}%')"
   ]
  },
  {
   "cell_type": "code",
   "execution_count": null,
   "metadata": {},
   "outputs": [],
   "source": [
    "# Predikce spotřeby jiného staršího vozidla - použijeme Škodu 120\n",
    "# Zdroj: http://skodaps.wz.cz/S105-136_technicke_1.php\n",
    "\n",
    "# Nutné brát v potaz, že mnoho aut v datasetu jsou auta americká\n",
    "\n",
    "s120_horsepower = 53.0\n",
    "s120_acceleration = 20.0\n",
    "s120_weight = 890.0\n",
    "s120_displacement = 1147.0\n",
    "\n",
    "s120_stats = np.array([s120_horsepower,s120_acceleration, s120_weight, s120_displacement])\n",
    "result = second_model.predict(s120_stats.reshape(1, -1))[0]\n",
    "print(\"Predikovaná spotřeba vozu Škoda 120 pomocí vícenásobné lineární regresivní analýzy: {}l/100km.\".\\\n",
    "      format(np.round(toLitres(result), 2)))"
   ]
  },
  {
   "cell_type": "code",
   "execution_count": null,
   "metadata": {},
   "outputs": [],
   "source": []
  }
 ],
 "metadata": {
  "kernelspec": {
   "display_name": "Python 3",
   "language": "python",
   "name": "python3"
  },
  "language_info": {
   "codemirror_mode": {
    "name": "ipython",
    "version": 3
   },
   "file_extension": ".py",
   "mimetype": "text/x-python",
   "name": "python",
   "nbconvert_exporter": "python",
   "pygments_lexer": "ipython3",
   "version": "3.8.6"
  }
 },
 "nbformat": 4,
 "nbformat_minor": 2
}
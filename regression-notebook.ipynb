{
 "cells": [
  {
   "cell_type": "code",
   "execution_count": null,
   "metadata": {},
   "outputs": [],
   "source": [
    "# Stažení a instalace knihoven, které budeme používat\n",
    "\n",
    "import sys\n",
    "!{sys.executable} -m pip install numpy\n",
    "!{sys.executable} -m pip install sklearn\n",
    "!{sys.executable} -m pip install pandas\n",
    "!{sys.executable} -m pip install matplotlib\n",
    "!{sys.executable} -m pip install scipy"
   ]
  },
  {
   "cell_type": "code",
   "execution_count": 87,
   "metadata": {},
   "outputs": [],
   "source": [
    "# Import knihoven, které budeme používat\n",
    "\n",
    "import numpy as np\n",
    "import pandas as pd\n",
    "import matplotlib.pyplot as plt\n",
    "import sklearn as sk\n",
    "from scipy import stats\n",
    "from sklearn.linear_model import LinearRegression"
   ]
  },
  {
   "cell_type": "markdown",
   "metadata": {},
   "source": [
    "# Regrese\n",
    "\n",
    "#### Autoři:\n",
    "* [Martin Vlach](mailto:xvlach@mendelu.cz)\n",
    "* [Jakub Dolejší](mailto:xdolejsi@mendelu.cz)\n",
    "---\n",
    "### Regrese v různých vědních odvětvích\n",
    "- **Lékařství** - *regrese nemoci*\n",
    "- **Právo** - *regresy*\n",
    "- **Filozofie** - *nekonečný regres*\n",
    "- **Softwarové inženýrství** - *regresní testování*\n",
    "- <span style=\"color:#eb4034\">**Statistika** - *regresivní analýza*</span>\n",
    "---\n",
    "### Regresivní analýza\n",
    "* Jedna z nejpoužívanějších statistických metod.\n",
    "* Existuje značné množství variant, přičemž každá je vhodná na jiný typ problému.\n",
    "\n",
    "</br>\n",
    "\n",
    "* ***Definice*** - *Označení statistických metod, které souží k odhadu jisté náhodné veličiny na základě znalosti jedné či více jiných veličin. Cílem regresní analýzy je popsat tuto závislost pomocí vhodného modelu.*\n",
    "\n",
    "    * ***Závislá proměnná*** - *Parametr, jehož hodnotu zkoumáme/hledáme.*\n",
    "    * ***Nezávislá proměnná*** - *Parametr, jehož hodnota je nám známa. S využítím těchto hodnot je hledána hodnota závislé proměnné. Tyto hodnoty se často označují jako regresory*\n",
    "\n",
    "#### Dělení regresivních modelů\n",
    "* Diskrétní hodnoty proměnných **x** Spojité hodnoty proměnných **x** Kombinace\n",
    "* Jednoduchá **x** Vícenásobná\n",
    "* Lineární **x** Nelineární závislost\n",
    "\n",
    "\n",
    "### Lineární regrese\n"
   ]
  },
  {
   "cell_type": "code",
   "execution_count": 89,
   "metadata": {},
   "outputs": [
    {
     "data": {
      "text/html": [
       "<div>\n",
       "<style scoped>\n",
       "    .dataframe tbody tr th:only-of-type {\n",
       "        vertical-align: middle;\n",
       "    }\n",
       "\n",
       "    .dataframe tbody tr th {\n",
       "        vertical-align: top;\n",
       "    }\n",
       "\n",
       "    .dataframe thead th {\n",
       "        text-align: right;\n",
       "    }\n",
       "</style>\n",
       "<table border=\"1\" class=\"dataframe\">\n",
       "  <thead>\n",
       "    <tr style=\"text-align: right;\">\n",
       "      <th></th>\n",
       "      <th>Height</th>\n",
       "      <th>Weight</th>\n",
       "    </tr>\n",
       "  </thead>\n",
       "  <tbody>\n",
       "    <tr>\n",
       "      <th>0</th>\n",
       "      <td>187.571423</td>\n",
       "      <td>109.721058</td>\n",
       "    </tr>\n",
       "    <tr>\n",
       "      <th>1</th>\n",
       "      <td>174.706036</td>\n",
       "      <td>73.622781</td>\n",
       "    </tr>\n",
       "    <tr>\n",
       "      <th>2</th>\n",
       "      <td>188.239668</td>\n",
       "      <td>96.497614</td>\n",
       "    </tr>\n",
       "    <tr>\n",
       "      <th>3</th>\n",
       "      <td>182.196685</td>\n",
       "      <td>99.809570</td>\n",
       "    </tr>\n",
       "    <tr>\n",
       "      <th>4</th>\n",
       "      <td>177.499761</td>\n",
       "      <td>93.598681</td>\n",
       "    </tr>\n",
       "  </tbody>\n",
       "</table>\n",
       "</div>"
      ],
      "text/plain": [
       "       Height      Weight\n",
       "0  187.571423  109.721058\n",
       "1  174.706036   73.622781\n",
       "2  188.239668   96.497614\n",
       "3  182.196685   99.809570\n",
       "4  177.499761   93.598681"
      ]
     },
     "execution_count": 89,
     "metadata": {},
     "output_type": "execute_result"
    }
   ],
   "source": [
    "wh_df = pd.read_csv('data/weight-height.csv')\n",
    "\n",
    "\"\"\" \n",
    "Příklad jednoduché regresivní analýzy (pouze jeden regres)\n",
    "Z tohoto důvodu budeme zkoumat pouze muže a sloupec pohlaví můžeme ignorovat.\n",
    "Dále si převedeme hodnoty z datasetu na metrické jednotky, neboť jsou uvedeny v imperiálních hodnotách.\n",
    "\"\"\"\n",
    "\n",
    "# 1 palec = 2,54 cm\n",
    "height_constant = 2.54\n",
    "\n",
    "# 1 libra = 0,45359237 kg\n",
    "weight_constant = 0.4535923\n",
    "\n",
    "males_only_df = (wh_df[(wh_df['Gender'] == 'Male')]).drop('Gender',1) #\n",
    "males_only_df['Height'] *= height_constant\n",
    "males_only_df['Weight'] *= weight_constant\n",
    "males_only_df.head()"
   ]
  },
  {
   "cell_type": "code",
   "execution_count": 90,
   "metadata": {},
   "outputs": [
    {
     "data": {
      "image/png": "[encoded data removed]",
      "text/plain": [
       "<Figure size 432x288 with 1 Axes>"
      ]
     },
     "metadata": {
      "needs_background": "light"
     },
     "output_type": "display_data"
    }
   ],
   "source": [
    "males_only_df.plot.scatter(x=\"Height\", y=\"Weight\", color='b', title='Height x Weight [Males only]');"
   ]
  },
  {
   "cell_type": "code",
   "execution_count": 91,
   "metadata": {},
   "outputs": [
    {
     "name": "stdout",
     "output_type": "stream",
     "text": [
      "Hodnota Pearsonova korelačního koeficientu - 0.8629788486163176.\n"
     ]
    }
   ],
   "source": [
    "\"\"\"\n",
    "Ověření lineární korelační závislosti\n",
    "\n",
    "p - Pearsonův korelační koeficient měří sílu lineární závislosti mezi dvěma veličinami.\n",
    "\n",
    "OTÁZKA - Jakých hodnot může p nabývat?\n",
    "\"\"\"\n",
    "x = males_only_df['Height']\n",
    "y = males_only_df['Weight']\n",
    "\n",
    "p = stats.pearsonr(x, y)\n",
    "print(f\"Hodnota Pearsonova korelačního koeficientu - {p[0]}.\")"
   ]
  },
  {
   "cell_type": "code",
   "execution_count": 92,
   "metadata": {},
   "outputs": [
    {
     "data": {
      "text/plain": [
       "LinearRegression()"
      ]
     },
     "execution_count": 92,
     "metadata": {},
     "output_type": "execute_result"
    }
   ],
   "source": [
    "model = LinearRegression()\n",
    "model.fit(x.values.reshape((-1, 1)), y)"
   ]
  },
  {
   "cell_type": "code",
   "execution_count": 100,
   "metadata": {},
   "outputs": [
    {
     "data": {
      "image/png": "[encoded data removed]",
      "text/plain": [
       "<Figure size 432x288 with 1 Axes>"
      ]
     },
     "metadata": {
      "needs_background": "light"
     },
     "output_type": "display_data"
    }
   ],
   "source": [
    "plt.scatter(x, y, color = \"blue\")\n",
    "plt.plot(x, model.predict(x.values.reshape((-1, 1))), color = \"red\")\n",
    "plt.title(\"Male weight prediction\")\n",
    "plt.xlabel(\"Height\")\n",
    "plt.ylabel(\"Weight\")\n",
    "plt.show()"
   ]
  },
  {
   "cell_type": "code",
   "execution_count": 108,
   "metadata": {},
   "outputs": [
    {
     "name": "stdout",
     "output_type": "stream",
     "text": [
      "Zadejte vaši výšku - 180\n"
     ]
    }
   ],
   "source": [
    "input_height = input('Zadejte vaši výšku - ')"
   ]
  },
  {
   "cell_type": "code",
   "execution_count": 107,
   "metadata": {},
   "outputs": [
    {
     "name": "stdout",
     "output_type": "stream",
     "text": [
      "[90.87096784]\n"
     ]
    }
   ],
   "source": [
    "weight_predict = model.predict(np.array(float(input_height)).reshape((-1, 1)))\n",
    "print(weight_predict)"
   ]
  },
  {
   "cell_type": "code",
   "execution_count": null,
   "metadata": {},
   "outputs": [],
   "source": []
  },
  {
   "cell_type": "code",
   "execution_count": null,
   "metadata": {},
   "outputs": [],
   "source": []
  }
 ],
 "metadata": {
  "kernelspec": {
   "display_name": "Python 3",
   "language": "python",
   "name": "python3"
  },
  "language_info": {
   "codemirror_mode": {
    "name": "ipython",
    "version": 3
   },
   "file_extension": ".py",
   "mimetype": "text/x-python",
   "name": "python",
   "nbconvert_exporter": "python",
   "pygments_lexer": "ipython3",
   "version": "3.8.5"
  }
 },
 "nbformat": 4,
 "nbformat_minor": 2
}
